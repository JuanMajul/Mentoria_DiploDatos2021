{
 "cells": [
  {
   "cell_type": "markdown",
   "metadata": {},
   "source": [
    "## Análisis exploratorio de la demanda"
   ]
  },
  {
   "cell_type": "markdown",
   "metadata": {},
   "source": [
    "1-Explorar características de los pacientes.\n",
    "\n",
    "2-Explorar relaciones entre las características de los pacientes.\n",
    "\n",
    "3-Explorar consumos. Analizar su distribución"
   ]
  },
  {
   "cell_type": "code",
   "execution_count": 18,
   "metadata": {},
   "outputs": [],
   "source": [
    "#Importación de librerías\n",
    "\n",
    "import pandas as pd\n",
    "import numpy as np\n",
    "import matplotlib.pyplot as plt\n",
    "import seaborn as sns\n"
   ]
  },
  {
   "cell_type": "code",
   "execution_count": 9,
   "metadata": {},
   "outputs": [
    {
     "data": {
      "text/html": [
       "<div>\n",
       "<style scoped>\n",
       "    .dataframe tbody tr th:only-of-type {\n",
       "        vertical-align: middle;\n",
       "    }\n",
       "\n",
       "    .dataframe tbody tr th {\n",
       "        vertical-align: top;\n",
       "    }\n",
       "\n",
       "    .dataframe thead th {\n",
       "        text-align: right;\n",
       "    }\n",
       "</style>\n",
       "<table border=\"1\" class=\"dataframe\">\n",
       "  <thead>\n",
       "    <tr style=\"text-align: right;\">\n",
       "      <th></th>\n",
       "      <th>id_socio_encoded</th>\n",
       "      <th>edad_encoded</th>\n",
       "      <th>sexo_encoded</th>\n",
       "      <th>antiguedad_encoded</th>\n",
       "      <th>parentesco_encoded</th>\n",
       "      <th>plan_encoded</th>\n",
       "      <th>segmento_encoded</th>\n",
       "      <th>app_descargada_encoded</th>\n",
       "      <th>Q consumos Clinica Medica</th>\n",
       "      <th>Q consumos pediatria</th>\n",
       "      <th>Q consumos nutricionistas</th>\n",
       "      <th>Promedio calificaciones enviadas</th>\n",
       "    </tr>\n",
       "  </thead>\n",
       "  <tbody>\n",
       "    <tr>\n",
       "      <th>0</th>\n",
       "      <td>100000</td>\n",
       "      <td>81</td>\n",
       "      <td>F</td>\n",
       "      <td>69</td>\n",
       "      <td>Titular</td>\n",
       "      <td>a</td>\n",
       "      <td>individuo_tipo_1</td>\n",
       "      <td>SI</td>\n",
       "      <td>2</td>\n",
       "      <td>0</td>\n",
       "      <td>0</td>\n",
       "      <td>6,5</td>\n",
       "    </tr>\n",
       "    <tr>\n",
       "      <th>1</th>\n",
       "      <td>100001</td>\n",
       "      <td>64</td>\n",
       "      <td>F</td>\n",
       "      <td>77</td>\n",
       "      <td>Titular</td>\n",
       "      <td>b</td>\n",
       "      <td>empresa_tipo_1</td>\n",
       "      <td>SI</td>\n",
       "      <td>1</td>\n",
       "      <td>0</td>\n",
       "      <td>0</td>\n",
       "      <td>8</td>\n",
       "    </tr>\n",
       "  </tbody>\n",
       "</table>\n",
       "</div>"
      ],
      "text/plain": [
       "   id_socio_encoded  edad_encoded sexo_encoded  antiguedad_encoded  \\\n",
       "0            100000            81            F                  69   \n",
       "1            100001            64            F                  77   \n",
       "\n",
       "  parentesco_encoded plan_encoded  segmento_encoded app_descargada_encoded  \\\n",
       "0            Titular            a  individuo_tipo_1                     SI   \n",
       "1            Titular            b    empresa_tipo_1                     SI   \n",
       "\n",
       "   Q consumos Clinica Medica  Q consumos pediatria  Q consumos nutricionistas  \\\n",
       "0                          2                     0                          0   \n",
       "1                          1                     0                          0   \n",
       "\n",
       "  Promedio calificaciones enviadas  \n",
       "0                              6,5  \n",
       "1                                8  "
      ]
     },
     "execution_count": 9,
     "metadata": {},
     "output_type": "execute_result"
    }
   ],
   "source": [
    "df=pd.read_csv('.\\Data\\Dataset_demanda.csv',sep=';')\n",
    "df.head(2)"
   ]
  },
  {
   "cell_type": "code",
   "execution_count": 10,
   "metadata": {},
   "outputs": [
    {
     "data": {
      "text/html": [
       "<div>\n",
       "<style scoped>\n",
       "    .dataframe tbody tr th:only-of-type {\n",
       "        vertical-align: middle;\n",
       "    }\n",
       "\n",
       "    .dataframe tbody tr th {\n",
       "        vertical-align: top;\n",
       "    }\n",
       "\n",
       "    .dataframe thead th {\n",
       "        text-align: right;\n",
       "    }\n",
       "</style>\n",
       "<table border=\"1\" class=\"dataframe\">\n",
       "  <thead>\n",
       "    <tr style=\"text-align: right;\">\n",
       "      <th></th>\n",
       "      <th>id_socio_encoded</th>\n",
       "      <th>edad_encoded</th>\n",
       "      <th>antiguedad_encoded</th>\n",
       "      <th>Q consumos Clinica Medica</th>\n",
       "      <th>Q consumos pediatria</th>\n",
       "      <th>Q consumos nutricionistas</th>\n",
       "    </tr>\n",
       "  </thead>\n",
       "  <tbody>\n",
       "    <tr>\n",
       "      <th>count</th>\n",
       "      <td>1924.000000</td>\n",
       "      <td>1924.000000</td>\n",
       "      <td>1924.000000</td>\n",
       "      <td>1924.000000</td>\n",
       "      <td>1924.000000</td>\n",
       "      <td>1924.000000</td>\n",
       "    </tr>\n",
       "    <tr>\n",
       "      <th>mean</th>\n",
       "      <td>100961.500000</td>\n",
       "      <td>31.917360</td>\n",
       "      <td>29.399688</td>\n",
       "      <td>0.541060</td>\n",
       "      <td>0.322765</td>\n",
       "      <td>0.435551</td>\n",
       "    </tr>\n",
       "    <tr>\n",
       "      <th>std</th>\n",
       "      <td>555.555278</td>\n",
       "      <td>20.189223</td>\n",
       "      <td>21.565892</td>\n",
       "      <td>0.673299</td>\n",
       "      <td>0.648436</td>\n",
       "      <td>0.825683</td>\n",
       "    </tr>\n",
       "    <tr>\n",
       "      <th>min</th>\n",
       "      <td>100000.000000</td>\n",
       "      <td>0.000000</td>\n",
       "      <td>0.000000</td>\n",
       "      <td>0.000000</td>\n",
       "      <td>0.000000</td>\n",
       "      <td>0.000000</td>\n",
       "    </tr>\n",
       "    <tr>\n",
       "      <th>25%</th>\n",
       "      <td>100480.750000</td>\n",
       "      <td>15.000000</td>\n",
       "      <td>11.000000</td>\n",
       "      <td>0.000000</td>\n",
       "      <td>0.000000</td>\n",
       "      <td>0.000000</td>\n",
       "    </tr>\n",
       "    <tr>\n",
       "      <th>50%</th>\n",
       "      <td>100961.500000</td>\n",
       "      <td>31.000000</td>\n",
       "      <td>25.000000</td>\n",
       "      <td>0.000000</td>\n",
       "      <td>0.000000</td>\n",
       "      <td>0.000000</td>\n",
       "    </tr>\n",
       "    <tr>\n",
       "      <th>75%</th>\n",
       "      <td>101442.250000</td>\n",
       "      <td>47.000000</td>\n",
       "      <td>44.000000</td>\n",
       "      <td>1.000000</td>\n",
       "      <td>1.000000</td>\n",
       "      <td>1.000000</td>\n",
       "    </tr>\n",
       "    <tr>\n",
       "      <th>max</th>\n",
       "      <td>101923.000000</td>\n",
       "      <td>85.000000</td>\n",
       "      <td>130.000000</td>\n",
       "      <td>5.000000</td>\n",
       "      <td>5.000000</td>\n",
       "      <td>7.000000</td>\n",
       "    </tr>\n",
       "  </tbody>\n",
       "</table>\n",
       "</div>"
      ],
      "text/plain": [
       "       id_socio_encoded  edad_encoded  antiguedad_encoded  \\\n",
       "count       1924.000000   1924.000000         1924.000000   \n",
       "mean      100961.500000     31.917360           29.399688   \n",
       "std          555.555278     20.189223           21.565892   \n",
       "min       100000.000000      0.000000            0.000000   \n",
       "25%       100480.750000     15.000000           11.000000   \n",
       "50%       100961.500000     31.000000           25.000000   \n",
       "75%       101442.250000     47.000000           44.000000   \n",
       "max       101923.000000     85.000000          130.000000   \n",
       "\n",
       "       Q consumos Clinica Medica  Q consumos pediatria  \\\n",
       "count                1924.000000           1924.000000   \n",
       "mean                    0.541060              0.322765   \n",
       "std                     0.673299              0.648436   \n",
       "min                     0.000000              0.000000   \n",
       "25%                     0.000000              0.000000   \n",
       "50%                     0.000000              0.000000   \n",
       "75%                     1.000000              1.000000   \n",
       "max                     5.000000              5.000000   \n",
       "\n",
       "       Q consumos nutricionistas  \n",
       "count                1924.000000  \n",
       "mean                    0.435551  \n",
       "std                     0.825683  \n",
       "min                     0.000000  \n",
       "25%                     0.000000  \n",
       "50%                     0.000000  \n",
       "75%                     1.000000  \n",
       "max                     7.000000  "
      ]
     },
     "execution_count": 10,
     "metadata": {},
     "output_type": "execute_result"
    }
   ],
   "source": [
    "df.describe()"
   ]
  },
  {
   "cell_type": "code",
   "execution_count": 13,
   "metadata": {},
   "outputs": [
    {
     "data": {
      "text/html": [
       "<div>\n",
       "<style scoped>\n",
       "    .dataframe tbody tr th:only-of-type {\n",
       "        vertical-align: middle;\n",
       "    }\n",
       "\n",
       "    .dataframe tbody tr th {\n",
       "        vertical-align: top;\n",
       "    }\n",
       "\n",
       "    .dataframe thead th {\n",
       "        text-align: right;\n",
       "    }\n",
       "</style>\n",
       "<table border=\"1\" class=\"dataframe\">\n",
       "  <thead>\n",
       "    <tr style=\"text-align: right;\">\n",
       "      <th></th>\n",
       "      <th>id_socio_encoded</th>\n",
       "      <th>edad_encoded</th>\n",
       "      <th>sexo_encoded</th>\n",
       "      <th>antiguedad_encoded</th>\n",
       "      <th>parentesco_encoded</th>\n",
       "      <th>plan_encoded</th>\n",
       "      <th>segmento_encoded</th>\n",
       "      <th>app_descargada_encoded</th>\n",
       "      <th>Q consumos Clinica Medica</th>\n",
       "      <th>Q consumos pediatria</th>\n",
       "      <th>Q consumos nutricionistas</th>\n",
       "      <th>Promedio calificaciones enviadas</th>\n",
       "    </tr>\n",
       "  </thead>\n",
       "  <tbody>\n",
       "  </tbody>\n",
       "</table>\n",
       "</div>"
      ],
      "text/plain": [
       "Empty DataFrame\n",
       "Columns: [id_socio_encoded, edad_encoded, sexo_encoded, antiguedad_encoded, parentesco_encoded, plan_encoded, segmento_encoded, app_descargada_encoded, Q consumos Clinica Medica, Q consumos pediatria, Q consumos nutricionistas, Promedio calificaciones enviadas]\n",
       "Index: []"
      ]
     },
     "execution_count": 13,
     "metadata": {},
     "output_type": "execute_result"
    }
   ],
   "source": [
    "df[df.id_socio_encoded.duplicated()]"
   ]
  },
  {
   "cell_type": "code",
   "execution_count": 20,
   "metadata": {},
   "outputs": [
    {
     "name": "stderr",
     "output_type": "stream",
     "text": [
      "C:\\Users\\arrua\\anaconda3\\lib\\site-packages\\seaborn\\_decorators.py:36: FutureWarning: Pass the following variable as a keyword arg: x. From version 0.12, the only valid positional argument will be `data`, and passing other arguments without an explicit keyword will result in an error or misinterpretation.\n",
      "  warnings.warn(\n",
      "C:\\Users\\arrua\\anaconda3\\lib\\site-packages\\seaborn\\distributions.py:2557: FutureWarning: `distplot` is a deprecated function and will be removed in a future version. Please adapt your code to use either `displot` (a figure-level function with similar flexibility) or `histplot` (an axes-level function for histograms).\n",
      "  warnings.warn(msg, FutureWarning)\n"
     ]
    },
    {
     "data": {
      "image/png": "[encoded data removed]",
      "text/plain": [
       "<Figure size 720x504 with 2 Axes>"
      ]
     },
     "metadata": {},
     "output_type": "display_data"
    }
   ],
   "source": [
    "sns.set()\n",
    "\n",
    "#Se divide el gráfico en dos partes\n",
    "\n",
    "f, (ax_box, ax_hist) = plt.subplots(2, sharex=True, figsize=(10,7),gridspec_kw={\"height_ratios\": (.15, .85)})\n",
    " \n",
    "#Se añade un gráfico a cada parte\n",
    "\n",
    "sns.boxplot(df.edad_encoded, ax=ax_box)\n",
    "sns.distplot(df.edad_encoded, ax=ax_hist, kde=False, hist=False)\n",
    "sns.distplot(df.edad_encoded, ax=ax_hist, kde=True, hist=True,norm_hist=False,color=\"green\")\n",
    "\n",
    "plt.axvline(df.edad_encoded.quantile(0.25))\n",
    "plt.axvline(df.edad_encoded.quantile(0.50))\n",
    "plt.axvline(df.edad_encoded.quantile(0.75))\n",
    " \n",
    "ax_box.set_title(\"Distribución de los pacientes\")\n",
    "plt.show()\n"
   ]
  },
  {
   "cell_type": "code",
   "execution_count": null,
   "metadata": {},
   "outputs": [],
   "source": []
  }
 ],
 "metadata": {
  "kernelspec": {
   "display_name": "Python 3",
   "language": "python",
   "name": "python3"
  },
  "language_info": {
   "codemirror_mode": {
    "name": "ipython",
    "version": 3
   },
   "file_extension": ".py",
   "mimetype": "text/x-python",
   "name": "python",
   "nbconvert_exporter": "python",
   "pygments_lexer": "ipython3",
   "version": "3.8.5"
  }
 },
 "nbformat": 4,
 "nbformat_minor": 4
}
