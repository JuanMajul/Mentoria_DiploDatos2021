{
 "cells": [
  {
   "cell_type": "markdown",
   "metadata": {},
   "source": [
    "# Consignas\n",
    "\n",
    "1)\tDesarrollar al menos dos modelos de clasificación (decision tree, logistic regression) que tengan como target feature categoria_socio.\n",
    "La target feature podrá asumir dos valores: \n",
    "●\tStandard.\n",
    "●\t Silver + Gold.\n",
    "Aplicar las buenas prácticas en la construcción de modelos: dividir datos en conjunto de entrenamiento y validación, cross-validation, grid-search.\n",
    "Obtener feature importance.\n",
    "\n",
    "El objetivo es entender las diferencias entre las distintas categorías de afiliados. Cuáles son las variables más relevantes para diferenciarlos?\n",
    "Las conclusiones obtenidas a partir de este modelo resultarán de gran importancia para el desarrollo de un modelo de recomendación.\n",
    "\n"
   ]
  },
  {
   "cell_type": "code",
   "execution_count": 9,
   "metadata": {},
   "outputs": [],
   "source": [
    "import pandas as pd\n",
    "import numpy as np\n",
    "import matplotlib.pyplot as plt\n",
    "import pandas_profiling\n",
    "import seaborn as sns\n",
    "import ptitprince as pt\n",
    "from sklearn.preprocessing import MinMaxScaler\n",
    "from sklearn.linear_model import LogisticRegression\n",
    "from sklearn.model_selection import GridSearchCV"
   ]
  },
  {
   "cell_type": "code",
   "execution_count": 3,
   "metadata": {},
   "outputs": [
    {
     "name": "stdout",
     "output_type": "stream",
     "text": [
      "<class 'pandas.core.frame.DataFrame'>\n",
      "RangeIndex: 2500 entries, 0 to 2499\n",
      "Data columns (total 31 columns):\n",
      " #   Column                                                                             Non-Null Count  Dtype  \n",
      "---  ------                                                                             --------------  -----  \n",
      " 0   id_consumo_encoded                                                                 2500 non-null   int64  \n",
      " 1   id_socio_encoded                                                                   2500 non-null   int64  \n",
      " 2   id_prestador_encoded                                                               2500 non-null   int64  \n",
      " 3   calificacion_experiencia_encoded                                                   2500 non-null   float64\n",
      " 4   id_zona_encoded                                                                    2500 non-null   int64  \n",
      " 5   edad_encoded                                                                       2500 non-null   float64\n",
      " 6   antiguedad_encoded                                                                 2500 non-null   float64\n",
      " 7   sexo_encoded_F                                                                     2500 non-null   int64  \n",
      " 8   sexo_encoded_M                                                                     2500 non-null   int64  \n",
      " 9   plan_encoded_a                                                                     2500 non-null   int64  \n",
      " 10  plan_encoded_b                                                                     2500 non-null   int64  \n",
      " 11  plan_encoded_c                                                                     2500 non-null   int64  \n",
      " 12  segmento_encoded_empresa_tipo_1                                                    2500 non-null   int64  \n",
      " 13  segmento_encoded_empresa_tipo_2                                                    2500 non-null   int64  \n",
      " 14  segmento_encoded_individuo_tipo_1                                                  2500 non-null   int64  \n",
      " 15  segmento_encoded_individuo_tipo_2                                                  2500 non-null   int64  \n",
      " 16  segmento_encoded_individuo_tipo_3                                                  2500 non-null   int64  \n",
      " 17  parentesco_encoded_Otro                                                            2500 non-null   int64  \n",
      " 18  parentesco_encoded_Titular                                                         2500 non-null   int64  \n",
      " 19  app_descargada_encoded_NO                                                          2500 non-null   int64  \n",
      " 20  app_descargada_encoded_SI                                                          2500 non-null   int64  \n",
      " 21  especialidad_prestador_encoded_CLINICA MEDICA                                      2500 non-null   int64  \n",
      " 22  especialidad_prestador_encoded_NUTRICIONISTAS(LIC.)                                2500 non-null   int64  \n",
      " 23  especialidad_prestador_encoded_PEDIATRIA                                           2500 non-null   int64  \n",
      " 24  edad_cat_pediatrico                                                                2500 non-null   int64  \n",
      " 25  categoria_prestador_gold                                                           2500 non-null   int64  \n",
      " 26  categoria_prestador_silver                                                         2500 non-null   int64  \n",
      " 27  categoria_prestador_standard                                                       2500 non-null   int64  \n",
      " 28  categoria_socio_gold                                                               2500 non-null   int64  \n",
      " 29  categoria_socio_silver                                                             2500 non-null   int64  \n",
      " 30  categoria_socio_standard                                                           2500 non-null   int64  \n",
      "dtypes: float64(3), int64(28)\n",
      "memory usage: 605.6 KB\n"
     ]
    }
   ],
   "source": [
    "df_procesado=pd.read_csv('../Data/df_procesado.csv')\n",
    "df_procesado.info()"
   ]
  },
  {
   "cell_type": "code",
   "execution_count": 7,
   "metadata": {},
   "outputs": [],
   "source": [
    "df_procesado.drop(['id_consumo_encoded','id_prestador_encoded','id_socio_encoded','id_zona_encoded'], axis = 1,inplace = True)\n",
    "df_procesado['categoria_socio_unif']=df_procesado.categoria_socio_gold + dF_procesado.categoria_socio_silver + df_procesado.categoria_socio_standard"
   ]
  },
  {
   "cell_type": "code",
   "execution_count": null,
   "metadata": {},
   "outputs": [],
   "source": [
    "model=LogisticRegression(random_state = 0, class_weigth = 'balanced')\n",
    "\n",
    "parameters= {'penalty':['l1','l2'],\n",
    "             'C':[0.0001,0.001,0.01,0.1,1,10,100],\n",
    "             'solver': ['newton-cg', 'lbfgs', 'liblinear', 'sag', 'saga']}\n",
    "\n",
    "cv=GridSearchCV(model , cv = 5 , njobs = -1, )\n"
   ]
  },
  {
   "cell_type": "code",
   "execution_count": null,
   "metadata": {},
   "outputs": [],
   "source": []
  },
  {
   "cell_type": "code",
   "execution_count": null,
   "metadata": {},
   "outputs": [],
   "source": []
  }
 ],
 "metadata": {
  "kernelspec": {
   "display_name": "Python 3",
   "language": "python",
   "name": "python3"
  },
  "language_info": {
   "codemirror_mode": {
    "name": "ipython",
    "version": 3
   },
   "file_extension": ".py",
   "mimetype": "text/x-python",
   "name": "python",
   "nbconvert_exporter": "python",
   "pygments_lexer": "ipython3",
   "version": "3.8.5"
  }
 },
 "nbformat": 4,
 "nbformat_minor": 4
}
