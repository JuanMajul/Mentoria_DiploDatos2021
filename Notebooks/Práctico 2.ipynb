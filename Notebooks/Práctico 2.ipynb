{
 "cells": [
  {
   "cell_type": "markdown",
   "metadata": {},
   "source": [
    "# Entregable Nº 2"
   ]
  },
  {
   "cell_type": "markdown",
   "metadata": {},
   "source": [
    "## Consigna 1"
   ]
  },
  {
   "cell_type": "markdown",
   "metadata": {},
   "source": [
    "1)Generar tabla_consumos_consolidada.\n",
    "El objetivo es generar un dataset de consumos con todos los datos disponibles de pacientes y centros médicos. Para ello, resultará necesario un join de las tablas consumos, pacientes y centros médicos.\n"
   ]
  },
  {
   "cell_type": "code",
   "execution_count": 1,
   "metadata": {},
   "outputs": [],
   "source": [
    "import pandas as pd\n",
    "import numpy as np\n",
    "import matplotlib.pyplot as plt"
   ]
  },
  {
   "cell_type": "code",
   "execution_count": 26,
   "metadata": {},
   "outputs": [],
   "source": [
    "df_centros=pd.read_csv('./Data/tabla_centros_medicos.csv')\n",
    "df_consumos=pd.read_csv('./Data/tabla_consumos.csv')\n",
    "df_pacientes=pd.read_csv('./Data/tabla_pacientes.csv')"
   ]
  },
  {
   "cell_type": "markdown",
   "metadata": {},
   "source": [
    "### Unión de dataframes"
   ]
  },
  {
   "cell_type": "code",
   "execution_count": 27,
   "metadata": {},
   "outputs": [
    {
     "data": {
      "text/html": [
       "<div>\n",
       "<style scoped>\n",
       "    .dataframe tbody tr th:only-of-type {\n",
       "        vertical-align: middle;\n",
       "    }\n",
       "\n",
       "    .dataframe tbody tr th {\n",
       "        vertical-align: top;\n",
       "    }\n",
       "\n",
       "    .dataframe thead th {\n",
       "        text-align: right;\n",
       "    }\n",
       "</style>\n",
       "<table border=\"1\" class=\"dataframe\">\n",
       "  <thead>\n",
       "    <tr style=\"text-align: right;\">\n",
       "      <th></th>\n",
       "      <th>id_prestador_encoded</th>\n",
       "      <th>especialidad_prestador_encoded</th>\n",
       "    </tr>\n",
       "  </thead>\n",
       "  <tbody>\n",
       "    <tr>\n",
       "      <th>0</th>\n",
       "      <td>200000</td>\n",
       "      <td>CLINICA MEDICA</td>\n",
       "    </tr>\n",
       "    <tr>\n",
       "      <th>1</th>\n",
       "      <td>200001</td>\n",
       "      <td>CLINICA MEDICA</td>\n",
       "    </tr>\n",
       "    <tr>\n",
       "      <th>2</th>\n",
       "      <td>200002</td>\n",
       "      <td>CLINICA MEDICA</td>\n",
       "    </tr>\n",
       "    <tr>\n",
       "      <th>3</th>\n",
       "      <td>200003</td>\n",
       "      <td>CLINICA MEDICA</td>\n",
       "    </tr>\n",
       "    <tr>\n",
       "      <th>4</th>\n",
       "      <td>200004</td>\n",
       "      <td>NUTRICIONISTAS(LIC.)                          ...</td>\n",
       "    </tr>\n",
       "  </tbody>\n",
       "</table>\n",
       "</div>"
      ],
      "text/plain": [
       "   id_prestador_encoded                     especialidad_prestador_encoded\n",
       "0                200000                                     CLINICA MEDICA\n",
       "1                200001                                     CLINICA MEDICA\n",
       "2                200002                                     CLINICA MEDICA\n",
       "3                200003                                     CLINICA MEDICA\n",
       "4                200004  NUTRICIONISTAS(LIC.)                          ..."
      ]
     },
     "execution_count": 27,
     "metadata": {},
     "output_type": "execute_result"
    }
   ],
   "source": [
    "df_centros.head()"
   ]
  },
  {
   "cell_type": "code",
   "execution_count": 28,
   "metadata": {},
   "outputs": [
    {
     "data": {
      "text/html": [
       "<div>\n",
       "<style scoped>\n",
       "    .dataframe tbody tr th:only-of-type {\n",
       "        vertical-align: middle;\n",
       "    }\n",
       "\n",
       "    .dataframe tbody tr th {\n",
       "        vertical-align: top;\n",
       "    }\n",
       "\n",
       "    .dataframe thead th {\n",
       "        text-align: right;\n",
       "    }\n",
       "</style>\n",
       "<table border=\"1\" class=\"dataframe\">\n",
       "  <thead>\n",
       "    <tr style=\"text-align: right;\">\n",
       "      <th></th>\n",
       "      <th>id_consumo_encoded</th>\n",
       "      <th>id_nomenclador_encoded</th>\n",
       "      <th>id_socio_encoded</th>\n",
       "      <th>id_prestador_encoded</th>\n",
       "      <th>descripcion_practica_encoded</th>\n",
       "      <th>calificacion_experiencia_encoded</th>\n",
       "    </tr>\n",
       "  </thead>\n",
       "  <tbody>\n",
       "    <tr>\n",
       "      <th>0</th>\n",
       "      <td>1</td>\n",
       "      <td>11111</td>\n",
       "      <td>100000</td>\n",
       "      <td>200000</td>\n",
       "      <td>ATENCION ON LINE COVID19                      ...</td>\n",
       "      <td>7</td>\n",
       "    </tr>\n",
       "    <tr>\n",
       "      <th>1</th>\n",
       "      <td>2</td>\n",
       "      <td>11111</td>\n",
       "      <td>100000</td>\n",
       "      <td>200000</td>\n",
       "      <td>ATENCION ON LINE COVID19                      ...</td>\n",
       "      <td>6</td>\n",
       "    </tr>\n",
       "    <tr>\n",
       "      <th>2</th>\n",
       "      <td>3</td>\n",
       "      <td>11111</td>\n",
       "      <td>100001</td>\n",
       "      <td>200001</td>\n",
       "      <td>ATENCION ON LINE COVID19                      ...</td>\n",
       "      <td>8</td>\n",
       "    </tr>\n",
       "    <tr>\n",
       "      <th>3</th>\n",
       "      <td>4</td>\n",
       "      <td>11111</td>\n",
       "      <td>100002</td>\n",
       "      <td>200000</td>\n",
       "      <td>ATENCION ON LINE COVID19                      ...</td>\n",
       "      <td>7</td>\n",
       "    </tr>\n",
       "    <tr>\n",
       "      <th>4</th>\n",
       "      <td>5</td>\n",
       "      <td>11111</td>\n",
       "      <td>100003</td>\n",
       "      <td>200002</td>\n",
       "      <td>ATENCION ON LINE COVID19                      ...</td>\n",
       "      <td>9</td>\n",
       "    </tr>\n",
       "  </tbody>\n",
       "</table>\n",
       "</div>"
      ],
      "text/plain": [
       "   id_consumo_encoded  id_nomenclador_encoded  id_socio_encoded  \\\n",
       "0                   1                   11111            100000   \n",
       "1                   2                   11111            100000   \n",
       "2                   3                   11111            100001   \n",
       "3                   4                   11111            100002   \n",
       "4                   5                   11111            100003   \n",
       "\n",
       "   id_prestador_encoded                       descripcion_practica_encoded  \\\n",
       "0                200000  ATENCION ON LINE COVID19                      ...   \n",
       "1                200000  ATENCION ON LINE COVID19                      ...   \n",
       "2                200001  ATENCION ON LINE COVID19                      ...   \n",
       "3                200000  ATENCION ON LINE COVID19                      ...   \n",
       "4                200002  ATENCION ON LINE COVID19                      ...   \n",
       "\n",
       "   calificacion_experiencia_encoded  \n",
       "0                                 7  \n",
       "1                                 6  \n",
       "2                                 8  \n",
       "3                                 7  \n",
       "4                                 9  "
      ]
     },
     "execution_count": 28,
     "metadata": {},
     "output_type": "execute_result"
    }
   ],
   "source": [
    "df_consumos.head()"
   ]
  },
  {
   "cell_type": "code",
   "execution_count": 29,
   "metadata": {},
   "outputs": [
    {
     "data": {
      "text/html": [
       "<div>\n",
       "<style scoped>\n",
       "    .dataframe tbody tr th:only-of-type {\n",
       "        vertical-align: middle;\n",
       "    }\n",
       "\n",
       "    .dataframe tbody tr th {\n",
       "        vertical-align: top;\n",
       "    }\n",
       "\n",
       "    .dataframe thead th {\n",
       "        text-align: right;\n",
       "    }\n",
       "</style>\n",
       "<table border=\"1\" class=\"dataframe\">\n",
       "  <thead>\n",
       "    <tr style=\"text-align: right;\">\n",
       "      <th></th>\n",
       "      <th>id_socio_encoded</th>\n",
       "      <th>sexo_encoded</th>\n",
       "      <th>plan_encoded</th>\n",
       "      <th>segmento_encoded</th>\n",
       "      <th>id_zona_encoded</th>\n",
       "      <th>parentesco_encoded</th>\n",
       "      <th>edad_encoded</th>\n",
       "      <th>antiguedad_encoded</th>\n",
       "      <th>app_descargada_encoded</th>\n",
       "    </tr>\n",
       "  </thead>\n",
       "  <tbody>\n",
       "    <tr>\n",
       "      <th>0</th>\n",
       "      <td>100000</td>\n",
       "      <td>F</td>\n",
       "      <td>a</td>\n",
       "      <td>individuo_tipo_1</td>\n",
       "      <td>1</td>\n",
       "      <td>Titular</td>\n",
       "      <td>81</td>\n",
       "      <td>69</td>\n",
       "      <td>SI</td>\n",
       "    </tr>\n",
       "    <tr>\n",
       "      <th>1</th>\n",
       "      <td>100001</td>\n",
       "      <td>F</td>\n",
       "      <td>b</td>\n",
       "      <td>empresa_tipo_1</td>\n",
       "      <td>2</td>\n",
       "      <td>Titular</td>\n",
       "      <td>64</td>\n",
       "      <td>77</td>\n",
       "      <td>SI</td>\n",
       "    </tr>\n",
       "    <tr>\n",
       "      <th>2</th>\n",
       "      <td>100002</td>\n",
       "      <td>F</td>\n",
       "      <td>b</td>\n",
       "      <td>empresa_tipo_1</td>\n",
       "      <td>2</td>\n",
       "      <td>Otro</td>\n",
       "      <td>60</td>\n",
       "      <td>76</td>\n",
       "      <td>NO</td>\n",
       "    </tr>\n",
       "    <tr>\n",
       "      <th>3</th>\n",
       "      <td>100003</td>\n",
       "      <td>F</td>\n",
       "      <td>c</td>\n",
       "      <td>empresa_tipo_1</td>\n",
       "      <td>3</td>\n",
       "      <td>Titular</td>\n",
       "      <td>49</td>\n",
       "      <td>78</td>\n",
       "      <td>SI</td>\n",
       "    </tr>\n",
       "    <tr>\n",
       "      <th>4</th>\n",
       "      <td>100004</td>\n",
       "      <td>M</td>\n",
       "      <td>a</td>\n",
       "      <td>individuo_tipo_1</td>\n",
       "      <td>4</td>\n",
       "      <td>Otro</td>\n",
       "      <td>48</td>\n",
       "      <td>66</td>\n",
       "      <td>SI</td>\n",
       "    </tr>\n",
       "  </tbody>\n",
       "</table>\n",
       "</div>"
      ],
      "text/plain": [
       "   id_socio_encoded sexo_encoded plan_encoded  segmento_encoded  \\\n",
       "0            100000            F            a  individuo_tipo_1   \n",
       "1            100001            F            b    empresa_tipo_1   \n",
       "2            100002            F            b    empresa_tipo_1   \n",
       "3            100003            F            c    empresa_tipo_1   \n",
       "4            100004            M            a  individuo_tipo_1   \n",
       "\n",
       "   id_zona_encoded parentesco_encoded  edad_encoded  antiguedad_encoded  \\\n",
       "0                1            Titular            81                  69   \n",
       "1                2            Titular            64                  77   \n",
       "2                2               Otro            60                  76   \n",
       "3                3            Titular            49                  78   \n",
       "4                4               Otro            48                  66   \n",
       "\n",
       "  app_descargada_encoded  \n",
       "0                     SI  \n",
       "1                     SI  \n",
       "2                     NO  \n",
       "3                     SI  \n",
       "4                     SI  "
      ]
     },
     "execution_count": 29,
     "metadata": {},
     "output_type": "execute_result"
    }
   ],
   "source": [
    "df_pacientes.head()"
   ]
  },
  {
   "cell_type": "markdown",
   "metadata": {},
   "source": [
    "Primero se unirá la tabla pacientes con consumos utilzando la columna id_socio_encoded. Hacemos una verificación para ver que todos los ids de la tabla de consumos estén en pacientes"
   ]
  },
  {
   "cell_type": "code",
   "execution_count": 30,
   "metadata": {},
   "outputs": [
    {
     "name": "stdout",
     "output_type": "stream",
     "text": [
      "Len ids_socios_consumos 1924 - ids_socios_pacientes 1924\n"
     ]
    }
   ],
   "source": [
    "ids_socios_consumos=df_consumos.id_socio_encoded.unique().tolist()\n",
    "ids_socios_pacientes=df_pacientes.id_socio_encoded.unique().tolist()\n",
    "print(\"Len ids_socios_consumos {} - ids_socios_pacientes {}\".format(len(ids_socios_consumos),\n",
    "                                                                    len(ids_socios_pacientes)))"
   ]
  },
  {
   "cell_type": "code",
   "execution_count": 32,
   "metadata": {},
   "outputs": [
    {
     "name": "stdout",
     "output_type": "stream",
     "text": [
      "True\n"
     ]
    }
   ],
   "source": [
    "print(np.array_equal(ids_socios_pacientes,ids_socios_consumos))"
   ]
  },
  {
   "cell_type": "markdown",
   "metadata": {},
   "source": [
    "Efectivamente tenemos todos los ids necesarios para hacer el join con las dos tablas"
   ]
  },
  {
   "cell_type": "code",
   "execution_count": 40,
   "metadata": {},
   "outputs": [],
   "source": [
    "df_consumos_consolidado=df_consumos.merge(df_pacientes,how='inner',on='id_socio_encoded')"
   ]
  },
  {
   "cell_type": "code",
   "execution_count": 41,
   "metadata": {},
   "outputs": [
    {
     "data": {
      "text/html": [
       "<div>\n",
       "<style scoped>\n",
       "    .dataframe tbody tr th:only-of-type {\n",
       "        vertical-align: middle;\n",
       "    }\n",
       "\n",
       "    .dataframe tbody tr th {\n",
       "        vertical-align: top;\n",
       "    }\n",
       "\n",
       "    .dataframe thead th {\n",
       "        text-align: right;\n",
       "    }\n",
       "</style>\n",
       "<table border=\"1\" class=\"dataframe\">\n",
       "  <thead>\n",
       "    <tr style=\"text-align: right;\">\n",
       "      <th></th>\n",
       "      <th>id_consumo_encoded</th>\n",
       "      <th>id_nomenclador_encoded</th>\n",
       "      <th>id_socio_encoded</th>\n",
       "      <th>id_prestador_encoded</th>\n",
       "      <th>descripcion_practica_encoded</th>\n",
       "      <th>calificacion_experiencia_encoded</th>\n",
       "      <th>sexo_encoded</th>\n",
       "      <th>plan_encoded</th>\n",
       "      <th>segmento_encoded</th>\n",
       "      <th>id_zona_encoded</th>\n",
       "      <th>parentesco_encoded</th>\n",
       "      <th>edad_encoded</th>\n",
       "      <th>antiguedad_encoded</th>\n",
       "      <th>app_descargada_encoded</th>\n",
       "    </tr>\n",
       "  </thead>\n",
       "  <tbody>\n",
       "    <tr>\n",
       "      <th>0</th>\n",
       "      <td>1</td>\n",
       "      <td>11111</td>\n",
       "      <td>100000</td>\n",
       "      <td>200000</td>\n",
       "      <td>ATENCION ON LINE COVID19                      ...</td>\n",
       "      <td>7</td>\n",
       "      <td>F</td>\n",
       "      <td>a</td>\n",
       "      <td>individuo_tipo_1</td>\n",
       "      <td>1</td>\n",
       "      <td>Titular</td>\n",
       "      <td>81</td>\n",
       "      <td>69</td>\n",
       "      <td>SI</td>\n",
       "    </tr>\n",
       "    <tr>\n",
       "      <th>1</th>\n",
       "      <td>2</td>\n",
       "      <td>11111</td>\n",
       "      <td>100000</td>\n",
       "      <td>200000</td>\n",
       "      <td>ATENCION ON LINE COVID19                      ...</td>\n",
       "      <td>6</td>\n",
       "      <td>F</td>\n",
       "      <td>a</td>\n",
       "      <td>individuo_tipo_1</td>\n",
       "      <td>1</td>\n",
       "      <td>Titular</td>\n",
       "      <td>81</td>\n",
       "      <td>69</td>\n",
       "      <td>SI</td>\n",
       "    </tr>\n",
       "    <tr>\n",
       "      <th>2</th>\n",
       "      <td>3</td>\n",
       "      <td>11111</td>\n",
       "      <td>100001</td>\n",
       "      <td>200001</td>\n",
       "      <td>ATENCION ON LINE COVID19                      ...</td>\n",
       "      <td>8</td>\n",
       "      <td>F</td>\n",
       "      <td>b</td>\n",
       "      <td>empresa_tipo_1</td>\n",
       "      <td>2</td>\n",
       "      <td>Titular</td>\n",
       "      <td>64</td>\n",
       "      <td>77</td>\n",
       "      <td>SI</td>\n",
       "    </tr>\n",
       "    <tr>\n",
       "      <th>3</th>\n",
       "      <td>4</td>\n",
       "      <td>11111</td>\n",
       "      <td>100002</td>\n",
       "      <td>200000</td>\n",
       "      <td>ATENCION ON LINE COVID19                      ...</td>\n",
       "      <td>7</td>\n",
       "      <td>F</td>\n",
       "      <td>b</td>\n",
       "      <td>empresa_tipo_1</td>\n",
       "      <td>2</td>\n",
       "      <td>Otro</td>\n",
       "      <td>60</td>\n",
       "      <td>76</td>\n",
       "      <td>NO</td>\n",
       "    </tr>\n",
       "    <tr>\n",
       "      <th>4</th>\n",
       "      <td>5</td>\n",
       "      <td>11111</td>\n",
       "      <td>100003</td>\n",
       "      <td>200002</td>\n",
       "      <td>ATENCION ON LINE COVID19                      ...</td>\n",
       "      <td>9</td>\n",
       "      <td>F</td>\n",
       "      <td>c</td>\n",
       "      <td>empresa_tipo_1</td>\n",
       "      <td>3</td>\n",
       "      <td>Titular</td>\n",
       "      <td>49</td>\n",
       "      <td>78</td>\n",
       "      <td>SI</td>\n",
       "    </tr>\n",
       "  </tbody>\n",
       "</table>\n",
       "</div>"
      ],
      "text/plain": [
       "   id_consumo_encoded  id_nomenclador_encoded  id_socio_encoded  \\\n",
       "0                   1                   11111            100000   \n",
       "1                   2                   11111            100000   \n",
       "2                   3                   11111            100001   \n",
       "3                   4                   11111            100002   \n",
       "4                   5                   11111            100003   \n",
       "\n",
       "   id_prestador_encoded                       descripcion_practica_encoded  \\\n",
       "0                200000  ATENCION ON LINE COVID19                      ...   \n",
       "1                200000  ATENCION ON LINE COVID19                      ...   \n",
       "2                200001  ATENCION ON LINE COVID19                      ...   \n",
       "3                200000  ATENCION ON LINE COVID19                      ...   \n",
       "4                200002  ATENCION ON LINE COVID19                      ...   \n",
       "\n",
       "   calificacion_experiencia_encoded sexo_encoded plan_encoded  \\\n",
       "0                                 7            F            a   \n",
       "1                                 6            F            a   \n",
       "2                                 8            F            b   \n",
       "3                                 7            F            b   \n",
       "4                                 9            F            c   \n",
       "\n",
       "   segmento_encoded  id_zona_encoded parentesco_encoded  edad_encoded  \\\n",
       "0  individuo_tipo_1                1            Titular            81   \n",
       "1  individuo_tipo_1                1            Titular            81   \n",
       "2    empresa_tipo_1                2            Titular            64   \n",
       "3    empresa_tipo_1                2               Otro            60   \n",
       "4    empresa_tipo_1                3            Titular            49   \n",
       "\n",
       "   antiguedad_encoded app_descargada_encoded  \n",
       "0                  69                     SI  \n",
       "1                  69                     SI  \n",
       "2                  77                     SI  \n",
       "3                  76                     NO  \n",
       "4                  78                     SI  "
      ]
     },
     "execution_count": 41,
     "metadata": {},
     "output_type": "execute_result"
    }
   ],
   "source": [
    "df_consumos_consolidado.head()"
   ]
  },
  {
   "cell_type": "markdown",
   "metadata": {},
   "source": [
    "Finalmente verificamos que tengamos todos los ids de los prestadores"
   ]
  },
  {
   "cell_type": "code",
   "execution_count": 42,
   "metadata": {},
   "outputs": [
    {
     "name": "stdout",
     "output_type": "stream",
     "text": [
      "True\n"
     ]
    }
   ],
   "source": [
    "ids_prestadores=df_centros.id_prestador_encoded.unique().tolist()\n",
    "ids_prestadores_consolidado=df_consumos_consolidado.id_prestador_encoded.unique().tolist()\n",
    "\n",
    "print(np.array_equal(ids_prestadores,ids_prestadores_consolidado))"
   ]
  },
  {
   "cell_type": "code",
   "execution_count": 43,
   "metadata": {},
   "outputs": [],
   "source": [
    "df_consumos_consolidado=df_consumos_consolidado.merge(df_centros,how='inner',on='id_prestador_encoded')"
   ]
  },
  {
   "cell_type": "code",
   "execution_count": 45,
   "metadata": {},
   "outputs": [
    {
     "name": "stdout",
     "output_type": "stream",
     "text": [
      "<class 'pandas.core.frame.DataFrame'>\n",
      "Int64Index: 2500 entries, 0 to 2499\n",
      "Data columns (total 15 columns):\n",
      " #   Column                            Non-Null Count  Dtype \n",
      "---  ------                            --------------  ----- \n",
      " 0   id_consumo_encoded                2500 non-null   int64 \n",
      " 1   id_nomenclador_encoded            2500 non-null   int64 \n",
      " 2   id_socio_encoded                  2500 non-null   int64 \n",
      " 3   id_prestador_encoded              2500 non-null   int64 \n",
      " 4   descripcion_practica_encoded      2500 non-null   object\n",
      " 5   calificacion_experiencia_encoded  2500 non-null   int64 \n",
      " 6   sexo_encoded                      2500 non-null   object\n",
      " 7   plan_encoded                      2500 non-null   object\n",
      " 8   segmento_encoded                  2500 non-null   object\n",
      " 9   id_zona_encoded                   2500 non-null   int64 \n",
      " 10  parentesco_encoded                2500 non-null   object\n",
      " 11  edad_encoded                      2500 non-null   int64 \n",
      " 12  antiguedad_encoded                2500 non-null   int64 \n",
      " 13  app_descargada_encoded            2500 non-null   object\n",
      " 14  especialidad_prestador_encoded    2500 non-null   object\n",
      "dtypes: int64(8), object(7)\n",
      "memory usage: 312.5+ KB\n"
     ]
    }
   ],
   "source": [
    "df_consumos_consolidado.info()"
   ]
  },
  {
   "cell_type": "markdown",
   "metadata": {},
   "source": [
    "## Consigna 2"
   ]
  },
  {
   "cell_type": "markdown",
   "metadata": {},
   "source": [
    "2)Breve análisis exploratorio de aquellas variables no analizadas en el práctico 1."
   ]
  },
  {
   "cell_type": "code",
   "execution_count": null,
   "metadata": {},
   "outputs": [],
   "source": []
  }
 ],
 "metadata": {
  "kernelspec": {
   "display_name": "Python 3",
   "language": "python",
   "name": "python3"
  },
  "language_info": {
   "codemirror_mode": {
    "name": "ipython",
    "version": 3
   },
   "file_extension": ".py",
   "mimetype": "text/x-python",
   "name": "python",
   "nbconvert_exporter": "python",
   "pygments_lexer": "ipython3",
   "version": "3.8.5"
  }
 },
 "nbformat": 4,
 "nbformat_minor": 4
}
